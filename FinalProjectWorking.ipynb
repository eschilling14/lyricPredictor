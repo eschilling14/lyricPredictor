{
 "cells": [
  {
   "cell_type": "code",
   "execution_count": 10,
   "metadata": {},
   "outputs": [],
   "source": [
    "import pandas as pd\n",
    "import numpy as np\n",
    "\n",
    "df = pd.read_csv('lyrics2.csv')\n",
    "\n",
    "df['ranker_genre'] = np.where(\n",
    "    (df['ranker_genre'] == 'screamo')|\n",
    "    (df['ranker_genre'] == 'punk rock')|\n",
    "    (df['ranker_genre'] == 'heavy metal'), \n",
    "    'alt rock', \n",
    "    df['ranker_genre']\n",
    ")"
   ]
  },
  {
   "cell_type": "code",
   "execution_count": 11,
   "metadata": {},
   "outputs": [],
   "source": [
    "group = ['song', 'year', 'album', 'genre', 'artist', 'ranker_genre']\n",
    "lyrics_by_song = df.sort_values(group)\\\n",
    "        .groupby(group).lyric\\\n",
    "        .apply(' '.join)\\\n",
    "        .apply(lambda x: x.lower())\\\n",
    "        .reset_index(name='lyric')\n",
    "\n",
    "lyrics_by_song[\"lyric\"] = lyrics_by_song['lyric'].str.replace(r'[^\\w\\s]','')"
   ]
  },
  {
   "cell_type": "code",
   "execution_count": 12,
   "metadata": {},
   "outputs": [],
   "source": [
    "from tokennick import tokenizer"
   ]
  },
  {
   "cell_type": "code",
   "execution_count": 13,
   "metadata": {},
   "outputs": [
    {
     "data": {
      "text/plain": [
       "array(['Hip Hop', 'indie folk', 'rhythm and blues', 'alt rock',\n",
       "       'classic rock'], dtype=object)"
      ]
     },
     "execution_count": 13,
     "metadata": {},
     "output_type": "execute_result"
    }
   ],
   "source": [
    "lyrics_by_song.ranker_genre.unique()"
   ]
  },
  {
   "cell_type": "code",
   "execution_count": 14,
   "metadata": {},
   "outputs": [],
   "source": [
    "from sklearn.utils import shuffle\n",
    "from nltk.corpus import stopwords\n",
    "\n",
    "genres = [\n",
    "    'Country', 'alt rock', 'Hip Hop',\n",
    "]\n",
    "\n",
    "LYRIC_LEN = 400 # each song has to be  400 characters\n",
    "N = 10000 # number of records to pull from each genre\n",
    "RANDOM_SEED = 200 # random seed to make results repeatable\n",
    "\n",
    "train_df = pd.DataFrame()\n",
    "test_df = pd.DataFrame()\n",
    "for genre in genres: # loop over each genre\n",
    "    subset = lyrics_by_song[ # create a subset \n",
    "        (lyrics_by_song.ranker_genre==genre) & \n",
    "        (lyrics_by_song.lyric.str.len() > LYRIC_LEN)\n",
    "    ]\n",
    "    train_set = lyrics_by_song.sample(n=N, random_state=RANDOM_SEED)\n",
    "    test_set = lyrics_by_song.drop(train_set.index)\n",
    "    train_df = train_df.append(train_set) # append subsets to the master sets\n",
    "    test_df = test_df.append(test_set)\n",
    "    \n",
    "train_df = shuffle(train_df)\n",
    "test_df = shuffle(test_df)"
   ]
  },
  {
   "cell_type": "code",
   "execution_count": 15,
   "metadata": {},
   "outputs": [
    {
     "data": {
      "text/plain": [
       "0.6077082692898863"
      ]
     },
     "execution_count": 15,
     "metadata": {},
     "output_type": "execute_result"
    }
   ],
   "source": [
    "from sklearn.feature_extraction.text import CountVectorizer\n",
    "from sklearn.naive_bayes import MultinomialNB\n",
    "from sklearn.pipeline import Pipeline\n",
    "\n",
    "# define our model\n",
    "text_clf = Pipeline(\n",
    "    [('vect', CountVectorizer()),\n",
    "     ('clf', MultinomialNB(alpha=0.1))])\n",
    "\n",
    "# train our model on training data\n",
    "text_clf.fit(train_df.lyric, train_df.ranker_genre)  \n",
    "\n",
    "# score our model on testing data\n",
    "predicted = text_clf.predict(test_df.lyric)\n",
    "np.mean(predicted == test_df.ranker_genre)"
   ]
  },
  {
   "cell_type": "code",
   "execution_count": 16,
   "metadata": {},
   "outputs": [
    {
     "data": {
      "text/plain": [
       "0.6328581309560406"
      ]
     },
     "execution_count": 16,
     "metadata": {},
     "output_type": "execute_result"
    }
   ],
   "source": [
    "from sklearn.naive_bayes import MultinomialNB\n",
    "from sklearn.pipeline import Pipeline\n",
    "from sklearn.feature_extraction.text import TfidfTransformer, TfidfVectorizer\n",
    "\n",
    "# define our model\n",
    "text_clf = Pipeline(\n",
    "    [('vect', TfidfVectorizer()),\n",
    "     ('clf', MultinomialNB(alpha=0.1))])\n",
    "\n",
    "# train our model on training data\n",
    "text_clf.fit(train_df.lyric, train_df.ranker_genre)  \n",
    "\n",
    "# score our model on testing data\n",
    "predicted = text_clf.predict(test_df.lyric)\n",
    "np.mean(predicted == test_df.ranker_genre)"
   ]
  },
  {
   "cell_type": "code",
   "execution_count": 17,
   "metadata": {},
   "outputs": [
    {
     "name": "stderr",
     "output_type": "stream",
     "text": [
      "/Users/brooklynpayne/anaconda3/envs/pandas/lib/python3.6/site-packages/sklearn/feature_extraction/text.py:300: UserWarning: Your stop_words may be inconsistent with your preprocessing. Tokenizing the stop words generated tokens ['could', 'doe', 'ha', 'might', 'must', 'need', 'sha', 'wa', 'would'] not in stop_words.\n",
      "  'stop_words.' % sorted(inconsistent))\n"
     ]
    },
    {
     "data": {
      "text/plain": [
       "0.642253304641869"
      ]
     },
     "execution_count": 17,
     "metadata": {},
     "output_type": "execute_result"
    }
   ],
   "source": [
    "from sklearn.naive_bayes import MultinomialNB\n",
    "from sklearn.pipeline import Pipeline\n",
    "from nltk import word_tokenize\n",
    "from nltk.stem import WordNetLemmatizer\n",
    "\n",
    "stop = list(set(stopwords.words('english'))) # stopwords\n",
    "wnl = WordNetLemmatizer() # lemmatizer\n",
    "\n",
    "# def tokenizer(x): # custom tokenizer\n",
    "#     return (\n",
    "#         wnl.lemmatize(w) \n",
    "#         for w in word_tokenize(x) \n",
    "#         if len(w) > 2 and w.isalnum() # only words that are  2 characters\n",
    "#     )                                 # and is alpha-numeric\n",
    "\n",
    "# define our model\n",
    "text_clf = Pipeline(\n",
    "    [('vect', TfidfVectorizer(\n",
    "        ngram_range=(1, 2), # include bigrams\n",
    "        tokenizer=tokenizer,\n",
    "        stop_words=stop,\n",
    "        max_df=0.4, # ignore terms that appear in more than 40% of documents\n",
    "        min_df=4)), # ignore terms that appear in less than 4 documents\n",
    "     ('tfidf', TfidfTransformer()),\n",
    "     ('clf', MultinomialNB(alpha=0.1))])\n",
    "\n",
    "# train our model on training data\n",
    "text_clf.fit(train_df.lyric, train_df.ranker_genre)  \n",
    "\n",
    "# score our model on testing data\n",
    "predicted = text_clf.predict(test_df.lyric)\n",
    "np.mean(predicted == test_df.ranker_genre)"
   ]
  },
  {
   "cell_type": "code",
   "execution_count": 21,
   "metadata": {},
   "outputs": [
    {
     "data": {
      "image/png": "[encoded data removed]",
      "text/plain": [
       "<Figure size 432x288 with 1 Axes>"
      ]
     },
     "metadata": {
      "needs_background": "light"
     },
     "output_type": "display_data"
    }
   ],
   "source": [
    "from sklearn.metrics import confusion_matrix\n",
    "import seaborn as sns\n",
    "import matplotlib.pyplot as plt\n",
    "\n",
    "mat = confusion_matrix(test_df.ranker_genre, predicted)\n",
    "sns.heatmap(\n",
    "    mat.T, square=True, annot=True, fmt='d', cbar=False,\n",
    "    xticklabels=genres, \n",
    "    yticklabels=genres\n",
    ")\n",
    "plt.xlabel('true label')\n",
    "plt.ylabel('predicted label');"
   ]
  },
  {
   "cell_type": "code",
   "execution_count": 19,
   "metadata": {},
   "outputs": [
    {
     "name": "stdout",
     "output_type": "stream",
     "text": [
      "COUNTRY_precision: 0.8570147915732855\n",
      "COUNTRY_recall: 0.8794848206071757\n",
      "COUNTRY_fscore: 0.8681044267877411\n",
      "COUNTRY_support: 13044\n",
      "\n",
      "ALT ROCK_precision: 0.6179499291450166\n",
      "ALT ROCK_recall: 0.5319183540700984\n",
      "ALT ROCK_fscore: 0.5717157591119657\n",
      "ALT ROCK_support: 36891\n",
      "\n",
      "HIP HOP_precision: 0.6226466575716235\n",
      "HIP HOP_recall: 0.8321043675553035\n",
      "HIP HOP_fscore: 0.7122964607141\n",
      "HIP HOP_support: 74046\n",
      "\n"
     ]
    }
   ],
   "source": [
    "from sklearn.metrics import precision_recall_fscore_support\n",
    "\n",
    "precision, recall, fscore, support = precision_recall_fscore_support(test_df.ranker_genre, predicted)\n",
    "\n",
    "for n,genre in enumerate(genres):\n",
    "    genre = genre.upper()\n",
    "    print(genre+'_precision: {}'.format(precision[n]))\n",
    "    print(genre+'_recall: {}'.format(recall[n]))\n",
    "    print(genre+'_fscore: {}'.format(fscore[n]))\n",
    "    print(genre+'_support: {}'.format(support[n]))\n",
    "    print()"
   ]
  },
  {
   "cell_type": "code",
   "execution_count": 20,
   "metadata": {},
   "outputs": [
    {
     "data": {
      "text/plain": [
       "array(['Hip Hop', 'classic rock', 'Hip Hop', 'alt rock', 'alt rock',\n",
       "       'classic rock', 'rhythm and blues', 'classic rock', 'alt rock',\n",
       "       'classic rock', 'classic rock'], dtype='<U16')"
      ]
     },
     "execution_count": 20,
     "metadata": {},
     "output_type": "execute_result"
    }
   ],
   "source": [
    "text_clf.predict(\n",
    "    [\n",
    "        \"I dont give you cash i just get you high\"\n",
    "        \"in my mind i will always be in love\",\n",
    "        \"i stand for the red white and blue\",\n",
    "        \"flow so smooth they say i rap in cursive\",\n",
    "        \"take my heart and carve it out\",\n",
    "        \"there is no end to the madness\",\n",
    "        \"sitting on my front porch drinking sweet tea\",\n",
    "        \"sitting on my front porch sippin on cognac\",\n",
    "        \"dog died and my pick up truck wont start\",\n",
    "        \"im invisible and the drugs wont help\",\n",
    "        \"i hope you choke in your sleep thinking of me\",\n",
    "        \"i wonder what genre a song about data science and naive bayes and hyper parameters and maybe a little scatter plots would be\"\n",
    "    ]\n",
    ")"
   ]
  },
  {
   "cell_type": "code",
   "execution_count": 9,
   "metadata": {},
   "outputs": [
    {
     "name": "stderr",
     "output_type": "stream",
     "text": [
      "/Users/brooklynpayne/anaconda3/envs/pandas/lib/python3.6/site-packages/sklearn/externals/joblib/__init__.py:15: DeprecationWarning: sklearn.externals.joblib is deprecated in 0.21 and will be removed in 0.23. Please import this functionality directly from joblib, which can be installed with: pip install joblib. If this warning is raised when loading pickled models, you may need to re-serialize those models with scikit-learn 0.21+.\n",
      "  warnings.warn(msg, category=DeprecationWarning)\n"
     ]
    },
    {
     "data": {
      "text/plain": [
       "['finalproject3.pkl']"
      ]
     },
     "execution_count": 9,
     "metadata": {},
     "output_type": "execute_result"
    }
   ],
   "source": [
    "from sklearn.externals import joblib\n",
    "import _pickle as cPickle\n",
    "\n",
    "joblib.dump(text_clf, 'finalproject3.pkl', compress = 1)"
   ]
  },
  {
   "cell_type": "code",
   "execution_count": null,
   "metadata": {},
   "outputs": [],
   "source": [
    "newpipeline = joblib.load('finalproject2.pkl')"
   ]
  },
  {
   "cell_type": "code",
   "execution_count": null,
   "metadata": {},
   "outputs": [],
   "source": [
    "newpipeline.predict(\n",
    "    [\n",
    "    \n",
    "    \"in my mind i will always be in love\"\n",
    "        \n",
    "    ]\n",
    "\n",
    ")"
   ]
  },
  {
   "cell_type": "code",
   "execution_count": null,
   "metadata": {},
   "outputs": [],
   "source": []
  }
 ],
 "metadata": {
  "kernelspec": {
   "display_name": "Python 3",
   "language": "python",
   "name": "python3"
  },
  "language_info": {
   "codemirror_mode": {
    "name": "ipython",
    "version": 3
   },
   "file_extension": ".py",
   "mimetype": "text/x-python",
   "name": "python",
   "nbconvert_exporter": "python",
   "pygments_lexer": "ipython3",
   "version": "3.6.9"
  }
 },
 "nbformat": 4,
 "nbformat_minor": 2
}
