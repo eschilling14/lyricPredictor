{
 "cells": [
  {
   "cell_type": "code",
   "execution_count": 1,
   "metadata": {},
   "outputs": [],
   "source": [
    "import pandas as pd\n",
    "import numpy as np\n",
    "\n",
    "df = pd.read_csv('lyrics.csv')\n",
    "\n",
    "df['genre'] = np.where(\n",
    "    (df['genre'] == 'Pop')|\n",
    "    (df['genre'] == 'Country')|\n",
    "    (df['genre'] == 'Hip-Hop'), \n",
    "    'Rock', \n",
    "    df['genre']\n",
    ")\n"
   ]
  },
  {
   "cell_type": "code",
   "execution_count": 2,
   "metadata": {},
   "outputs": [],
   "source": [
    "group = ['song', 'year','genre', 'artist', 'lyrics']\n",
    "lyrics_by_song = df.sort_values(group)\\\n",
    "        .groupby(group).lyrics\\\n",
    "        .apply(' '.join)\\\n",
    "        .apply(lambda x: x.lower())\\\n",
    "        .reset_index(name='lyric')\n",
    "lyrics_by_song[\"lyric\"] = lyrics_by_song['lyric'].str.replace(r'[^\\w\\s]','')"
   ]
  },
  {
   "cell_type": "code",
   "execution_count": 3,
   "metadata": {},
   "outputs": [
    {
     "data": {
      "text/html": [
       "<div>\n",
       "<style scoped>\n",
       "    .dataframe tbody tr th:only-of-type {\n",
       "        vertical-align: middle;\n",
       "    }\n",
       "\n",
       "    .dataframe tbody tr th {\n",
       "        vertical-align: top;\n",
       "    }\n",
       "\n",
       "    .dataframe thead th {\n",
       "        text-align: right;\n",
       "    }\n",
       "</style>\n",
       "<table border=\"1\" class=\"dataframe\">\n",
       "  <thead>\n",
       "    <tr style=\"text-align: right;\">\n",
       "      <th></th>\n",
       "      <th>song</th>\n",
       "      <th>year</th>\n",
       "      <th>genre</th>\n",
       "      <th>artist</th>\n",
       "      <th>lyrics</th>\n",
       "      <th>lyric</th>\n",
       "    </tr>\n",
       "  </thead>\n",
       "  <tbody>\n",
       "    <tr>\n",
       "      <th>0</th>\n",
       "      <td>0-0</td>\n",
       "      <td>2006</td>\n",
       "      <td>Metal</td>\n",
       "      <td>fear-factory</td>\n",
       "      <td>Long live the new flesh!\\nWhere evil dwells\\nN...</td>\n",
       "      <td>long live the new flesh\\nwhere evil dwells\\nno...</td>\n",
       "    </tr>\n",
       "    <tr>\n",
       "      <th>1</th>\n",
       "      <td>0-0-0</td>\n",
       "      <td>2007</td>\n",
       "      <td>Metal</td>\n",
       "      <td>earthtone9</td>\n",
       "      <td>thousand rays\\nthousand leaves\\nthousand breat...</td>\n",
       "      <td>thousand rays\\nthousand leaves\\nthousand breat...</td>\n",
       "    </tr>\n",
       "    <tr>\n",
       "      <th>2</th>\n",
       "      <td>0-0-where-evil-dwells</td>\n",
       "      <td>2008</td>\n",
       "      <td>Metal</td>\n",
       "      <td>fear-factory</td>\n",
       "      <td>Long live the new flesh\\nWhere evil dwells\\nNo...</td>\n",
       "      <td>long live the new flesh\\nwhere evil dwells\\nno...</td>\n",
       "    </tr>\n",
       "    <tr>\n",
       "      <th>3</th>\n",
       "      <td>0-71</td>\n",
       "      <td>2006</td>\n",
       "      <td>Not Available</td>\n",
       "      <td>cash-roseanne</td>\n",
       "      <td>no lyrics just 71 seconds of silence for each ...</td>\n",
       "      <td>no lyrics just 71 seconds of silence for each ...</td>\n",
       "    </tr>\n",
       "    <tr>\n",
       "      <th>4</th>\n",
       "      <td>0-to-100</td>\n",
       "      <td>2014</td>\n",
       "      <td>Rock</td>\n",
       "      <td>drake</td>\n",
       "      <td>Fuck bein' on some chill shit\\nWe go 0 to 100 ...</td>\n",
       "      <td>fuck bein on some chill shit\\nwe go 0 to 100 n...</td>\n",
       "    </tr>\n",
       "  </tbody>\n",
       "</table>\n",
       "</div>"
      ],
      "text/plain": [
       "                    song  year          genre         artist  \\\n",
       "0                    0-0  2006          Metal   fear-factory   \n",
       "1                  0-0-0  2007          Metal     earthtone9   \n",
       "2  0-0-where-evil-dwells  2008          Metal   fear-factory   \n",
       "3                   0-71  2006  Not Available  cash-roseanne   \n",
       "4               0-to-100  2014           Rock          drake   \n",
       "\n",
       "                                              lyrics  \\\n",
       "0  Long live the new flesh!\\nWhere evil dwells\\nN...   \n",
       "1  thousand rays\\nthousand leaves\\nthousand breat...   \n",
       "2  Long live the new flesh\\nWhere evil dwells\\nNo...   \n",
       "3  no lyrics just 71 seconds of silence for each ...   \n",
       "4  Fuck bein' on some chill shit\\nWe go 0 to 100 ...   \n",
       "\n",
       "                                               lyric  \n",
       "0  long live the new flesh\\nwhere evil dwells\\nno...  \n",
       "1  thousand rays\\nthousand leaves\\nthousand breat...  \n",
       "2  long live the new flesh\\nwhere evil dwells\\nno...  \n",
       "3  no lyrics just 71 seconds of silence for each ...  \n",
       "4  fuck bein on some chill shit\\nwe go 0 to 100 n...  "
      ]
     },
     "execution_count": 3,
     "metadata": {},
     "output_type": "execute_result"
    }
   ],
   "source": [
    "lyrics_by_song.head()"
   ]
  },
  {
   "cell_type": "code",
   "execution_count": 4,
   "metadata": {},
   "outputs": [],
   "source": [
    "lyrics_by_song2 = lyrics_by_song[['song', 'year', 'artist', 'lyric', 'genre']]"
   ]
  },
  {
   "cell_type": "code",
   "execution_count": 5,
   "metadata": {},
   "outputs": [
    {
     "data": {
      "text/html": [
       "<div>\n",
       "<style scoped>\n",
       "    .dataframe tbody tr th:only-of-type {\n",
       "        vertical-align: middle;\n",
       "    }\n",
       "\n",
       "    .dataframe tbody tr th {\n",
       "        vertical-align: top;\n",
       "    }\n",
       "\n",
       "    .dataframe thead th {\n",
       "        text-align: right;\n",
       "    }\n",
       "</style>\n",
       "<table border=\"1\" class=\"dataframe\">\n",
       "  <thead>\n",
       "    <tr style=\"text-align: right;\">\n",
       "      <th></th>\n",
       "      <th>song</th>\n",
       "      <th>year</th>\n",
       "      <th>artist</th>\n",
       "      <th>lyric</th>\n",
       "      <th>genre</th>\n",
       "    </tr>\n",
       "  </thead>\n",
       "  <tbody>\n",
       "    <tr>\n",
       "      <th>0</th>\n",
       "      <td>0-0</td>\n",
       "      <td>2006</td>\n",
       "      <td>fear-factory</td>\n",
       "      <td>long live the new flesh\\nwhere evil dwells\\nno...</td>\n",
       "      <td>Metal</td>\n",
       "    </tr>\n",
       "    <tr>\n",
       "      <th>1</th>\n",
       "      <td>0-0-0</td>\n",
       "      <td>2007</td>\n",
       "      <td>earthtone9</td>\n",
       "      <td>thousand rays\\nthousand leaves\\nthousand breat...</td>\n",
       "      <td>Metal</td>\n",
       "    </tr>\n",
       "    <tr>\n",
       "      <th>2</th>\n",
       "      <td>0-0-where-evil-dwells</td>\n",
       "      <td>2008</td>\n",
       "      <td>fear-factory</td>\n",
       "      <td>long live the new flesh\\nwhere evil dwells\\nno...</td>\n",
       "      <td>Metal</td>\n",
       "    </tr>\n",
       "    <tr>\n",
       "      <th>3</th>\n",
       "      <td>0-71</td>\n",
       "      <td>2006</td>\n",
       "      <td>cash-roseanne</td>\n",
       "      <td>no lyrics just 71 seconds of silence for each ...</td>\n",
       "      <td>Not Available</td>\n",
       "    </tr>\n",
       "    <tr>\n",
       "      <th>4</th>\n",
       "      <td>0-to-100</td>\n",
       "      <td>2014</td>\n",
       "      <td>drake</td>\n",
       "      <td>fuck bein on some chill shit\\nwe go 0 to 100 n...</td>\n",
       "      <td>Rock</td>\n",
       "    </tr>\n",
       "  </tbody>\n",
       "</table>\n",
       "</div>"
      ],
      "text/plain": [
       "                    song  year         artist  \\\n",
       "0                    0-0  2006   fear-factory   \n",
       "1                  0-0-0  2007     earthtone9   \n",
       "2  0-0-where-evil-dwells  2008   fear-factory   \n",
       "3                   0-71  2006  cash-roseanne   \n",
       "4               0-to-100  2014          drake   \n",
       "\n",
       "                                               lyric          genre  \n",
       "0  long live the new flesh\\nwhere evil dwells\\nno...          Metal  \n",
       "1  thousand rays\\nthousand leaves\\nthousand breat...          Metal  \n",
       "2  long live the new flesh\\nwhere evil dwells\\nno...          Metal  \n",
       "3  no lyrics just 71 seconds of silence for each ...  Not Available  \n",
       "4  fuck bein on some chill shit\\nwe go 0 to 100 n...           Rock  "
      ]
     },
     "execution_count": 5,
     "metadata": {},
     "output_type": "execute_result"
    }
   ],
   "source": [
    "lyrics_by_song2.head()"
   ]
  },
  {
   "cell_type": "code",
   "execution_count": 6,
   "metadata": {},
   "outputs": [],
   "source": [
    "lyrics_by_song2['tokens'] = lyrics_by_song2.lyric.apply(lambda x: x[0:-1].replace('\\n',' ').split(' '))"
   ]
  },
  {
   "cell_type": "code",
   "execution_count": 7,
   "metadata": {},
   "outputs": [
    {
     "data": {
      "text/html": [
       "<div>\n",
       "<style scoped>\n",
       "    .dataframe tbody tr th:only-of-type {\n",
       "        vertical-align: middle;\n",
       "    }\n",
       "\n",
       "    .dataframe tbody tr th {\n",
       "        vertical-align: top;\n",
       "    }\n",
       "\n",
       "    .dataframe thead th {\n",
       "        text-align: right;\n",
       "    }\n",
       "</style>\n",
       "<table border=\"1\" class=\"dataframe\">\n",
       "  <thead>\n",
       "    <tr style=\"text-align: right;\">\n",
       "      <th></th>\n",
       "      <th>song</th>\n",
       "      <th>year</th>\n",
       "      <th>artist</th>\n",
       "      <th>lyric</th>\n",
       "      <th>genre</th>\n",
       "      <th>tokens</th>\n",
       "    </tr>\n",
       "  </thead>\n",
       "  <tbody>\n",
       "    <tr>\n",
       "      <th>4</th>\n",
       "      <td>0-to-100</td>\n",
       "      <td>2014</td>\n",
       "      <td>drake</td>\n",
       "      <td>fuck bein on some chill shit\\nwe go 0 to 100 n...</td>\n",
       "      <td>Rock</td>\n",
       "      <td>[fuck, bein, on, some, chill, shit, we, go, 0,...</td>\n",
       "    </tr>\n",
       "    <tr>\n",
       "      <th>5</th>\n",
       "      <td>0-to-100-freestyle</td>\n",
       "      <td>2014</td>\n",
       "      <td>ace-hood</td>\n",
       "      <td>better watch your mrs imma shoplift\\ngo to sla...</td>\n",
       "      <td>Rock</td>\n",
       "      <td>[better, watch, your, mrs, imma, shoplift, go,...</td>\n",
       "    </tr>\n",
       "    <tr>\n",
       "      <th>6</th>\n",
       "      <td>0-to-100-freestyle</td>\n",
       "      <td>2014</td>\n",
       "      <td>cassidy</td>\n",
       "      <td>imma keep it a bean pinto\\nlife is a bitch but...</td>\n",
       "      <td>Rock</td>\n",
       "      <td>[imma, keep, it, a, bean, pinto, life, is, a, ...</td>\n",
       "    </tr>\n",
       "    <tr>\n",
       "      <th>7</th>\n",
       "      <td>0-to-100-the-catch-up</td>\n",
       "      <td>2014</td>\n",
       "      <td>drake</td>\n",
       "      <td>fuck bein on some chill shit\\nwe go 0 to 100 n...</td>\n",
       "      <td>Rock</td>\n",
       "      <td>[fuck, bein, on, some, chill, shit, we, go, 0,...</td>\n",
       "    </tr>\n",
       "    <tr>\n",
       "      <th>8</th>\n",
       "      <td>000-000</td>\n",
       "      <td>2006</td>\n",
       "      <td>beck</td>\n",
       "      <td>all the way\\npixel in the light\\ncomin next ye...</td>\n",
       "      <td>Rock</td>\n",
       "      <td>[all, the, way, pixel, in, the, light, comin, ...</td>\n",
       "    </tr>\n",
       "  </tbody>\n",
       "</table>\n",
       "</div>"
      ],
      "text/plain": [
       "                    song  year    artist  \\\n",
       "4               0-to-100  2014     drake   \n",
       "5     0-to-100-freestyle  2014  ace-hood   \n",
       "6     0-to-100-freestyle  2014   cassidy   \n",
       "7  0-to-100-the-catch-up  2014     drake   \n",
       "8                000-000  2006      beck   \n",
       "\n",
       "                                               lyric genre  \\\n",
       "4  fuck bein on some chill shit\\nwe go 0 to 100 n...  Rock   \n",
       "5  better watch your mrs imma shoplift\\ngo to sla...  Rock   \n",
       "6  imma keep it a bean pinto\\nlife is a bitch but...  Rock   \n",
       "7  fuck bein on some chill shit\\nwe go 0 to 100 n...  Rock   \n",
       "8  all the way\\npixel in the light\\ncomin next ye...  Rock   \n",
       "\n",
       "                                              tokens  \n",
       "4  [fuck, bein, on, some, chill, shit, we, go, 0,...  \n",
       "5  [better, watch, your, mrs, imma, shoplift, go,...  \n",
       "6  [imma, keep, it, a, bean, pinto, life, is, a, ...  \n",
       "7  [fuck, bein, on, some, chill, shit, we, go, 0,...  \n",
       "8  [all, the, way, pixel, in, the, light, comin, ...  "
      ]
     },
     "execution_count": 7,
     "metadata": {},
     "output_type": "execute_result"
    }
   ],
   "source": [
    "lyrics_by_song3 = lyrics_by_song2.loc[(lyrics_by_song2['genre'] == 'Hip Hop') | (lyrics_by_song2['genre'] == 'Pop') |\n",
    "                                      (lyrics_by_song2['genre'] == 'Rock') | (lyrics_by_song2['genre'] == 'Country')]\n",
    "lyrics_by_song3.head()\n",
    "                                      "
   ]
  },
  {
   "cell_type": "code",
   "execution_count": 8,
   "metadata": {},
   "outputs": [
    {
     "name": "stderr",
     "output_type": "stream",
     "text": [
      "/Users/brooklynpayne/anaconda3/envs/pandas/lib/python3.6/site-packages/ipykernel_launcher.py:6: UserWarning: Pandas doesn't allow columns to be created via a new attribute name - see https://pandas.pydata.org/pandas-docs/stable/indexing.html#attribute-access\n",
      "  \n"
     ]
    }
   ],
   "source": [
    "import nltk\n",
    "# nltk.download()\n",
    "from nltk.corpus import stopwords\n",
    "stop = stopwords.words('english')\n",
    "\n",
    "lyrics_by_song3.filtered = lyrics_by_song3['tokens'].apply(lambda x: [item for item in x if item not in stop])\n"
   ]
  },
  {
   "cell_type": "code",
   "execution_count": null,
   "metadata": {},
   "outputs": [],
   "source": []
  },
  {
   "cell_type": "raw",
   "metadata": {},
   "source": []
  },
  {
   "cell_type": "code",
   "execution_count": 61,
   "metadata": {},
   "outputs": [],
   "source": [
    "\n",
    "X = lyrics_by_song2.values[:, 0:4]\n",
    "y = lyrics_by_song2.values[:,4]\n"
   ]
  },
  {
   "cell_type": "code",
   "execution_count": 42,
   "metadata": {},
   "outputs": [
    {
     "ename": "ValueError",
     "evalue": "'a' must be greater than 0 unless no samples are taken",
     "output_type": "error",
     "traceback": [
      "\u001b[0;31m---------------------------------------------------------------------------\u001b[0m",
      "\u001b[0;31mValueError\u001b[0m                                Traceback (most recent call last)",
      "\u001b[0;32m<ipython-input-42-cbeea060ae9a>\u001b[0m in \u001b[0;36m<module>\u001b[0;34m\u001b[0m\n\u001b[1;32m     17\u001b[0m         \u001b[0;34m(\u001b[0m\u001b[0mlyrics_by_song\u001b[0m\u001b[0;34m.\u001b[0m\u001b[0mlyric\u001b[0m\u001b[0;34m.\u001b[0m\u001b[0mstr\u001b[0m\u001b[0;34m.\u001b[0m\u001b[0mlen\u001b[0m\u001b[0;34m(\u001b[0m\u001b[0;34m)\u001b[0m \u001b[0;34m>\u001b[0m \u001b[0;36m400\u001b[0m\u001b[0;34m)\u001b[0m\u001b[0;34m\u001b[0m\u001b[0;34m\u001b[0m\u001b[0m\n\u001b[1;32m     18\u001b[0m     ]\n\u001b[0;32m---> 19\u001b[0;31m     \u001b[0mtrain_set\u001b[0m \u001b[0;34m=\u001b[0m \u001b[0msubset\u001b[0m\u001b[0;34m.\u001b[0m\u001b[0msample\u001b[0m\u001b[0;34m(\u001b[0m\u001b[0mn\u001b[0m\u001b[0;34m=\u001b[0m\u001b[0mN\u001b[0m\u001b[0;34m,\u001b[0m \u001b[0mrandom_state\u001b[0m\u001b[0;34m=\u001b[0m\u001b[0mRANDOM_SEED\u001b[0m\u001b[0;34m)\u001b[0m\u001b[0;34m\u001b[0m\u001b[0;34m\u001b[0m\u001b[0m\n\u001b[0m\u001b[1;32m     20\u001b[0m     \u001b[0mtest_set\u001b[0m \u001b[0;34m=\u001b[0m \u001b[0msubset\u001b[0m\u001b[0;34m.\u001b[0m\u001b[0mdrop\u001b[0m\u001b[0;34m(\u001b[0m\u001b[0mtrain_set\u001b[0m\u001b[0;34m.\u001b[0m\u001b[0mindex\u001b[0m\u001b[0;34m)\u001b[0m\u001b[0;34m\u001b[0m\u001b[0;34m\u001b[0m\u001b[0m\n\u001b[1;32m     21\u001b[0m \u001b[0;31m#     train_df = train_df.append(train_set) # append subsets to the master sets\u001b[0m\u001b[0;34m\u001b[0m\u001b[0;34m\u001b[0m\u001b[0;34m\u001b[0m\u001b[0m\n",
      "\u001b[0;32m~/anaconda3/envs/pandas/lib/python3.6/site-packages/pandas/core/generic.py\u001b[0m in \u001b[0;36msample\u001b[0;34m(self, n, frac, replace, weights, random_state, axis)\u001b[0m\n\u001b[1;32m   4969\u001b[0m             )\n\u001b[1;32m   4970\u001b[0m \u001b[0;34m\u001b[0m\u001b[0m\n\u001b[0;32m-> 4971\u001b[0;31m         \u001b[0mlocs\u001b[0m \u001b[0;34m=\u001b[0m \u001b[0mrs\u001b[0m\u001b[0;34m.\u001b[0m\u001b[0mchoice\u001b[0m\u001b[0;34m(\u001b[0m\u001b[0maxis_length\u001b[0m\u001b[0;34m,\u001b[0m \u001b[0msize\u001b[0m\u001b[0;34m=\u001b[0m\u001b[0mn\u001b[0m\u001b[0;34m,\u001b[0m \u001b[0mreplace\u001b[0m\u001b[0;34m=\u001b[0m\u001b[0mreplace\u001b[0m\u001b[0;34m,\u001b[0m \u001b[0mp\u001b[0m\u001b[0;34m=\u001b[0m\u001b[0mweights\u001b[0m\u001b[0;34m)\u001b[0m\u001b[0;34m\u001b[0m\u001b[0;34m\u001b[0m\u001b[0m\n\u001b[0m\u001b[1;32m   4972\u001b[0m         \u001b[0;32mreturn\u001b[0m \u001b[0mself\u001b[0m\u001b[0;34m.\u001b[0m\u001b[0mtake\u001b[0m\u001b[0;34m(\u001b[0m\u001b[0mlocs\u001b[0m\u001b[0;34m,\u001b[0m \u001b[0maxis\u001b[0m\u001b[0;34m=\u001b[0m\u001b[0maxis\u001b[0m\u001b[0;34m,\u001b[0m \u001b[0mis_copy\u001b[0m\u001b[0;34m=\u001b[0m\u001b[0;32mFalse\u001b[0m\u001b[0;34m)\u001b[0m\u001b[0;34m\u001b[0m\u001b[0;34m\u001b[0m\u001b[0m\n\u001b[1;32m   4973\u001b[0m \u001b[0;34m\u001b[0m\u001b[0m\n",
      "\u001b[0;32mmtrand.pyx\u001b[0m in \u001b[0;36mmtrand.RandomState.choice\u001b[0;34m()\u001b[0m\n",
      "\u001b[0;31mValueError\u001b[0m: 'a' must be greater than 0 unless no samples are taken"
     ]
    }
   ],
   "source": [
    "from sklearn.utils import shuffle\n",
    "from nltk.corpus import stopwords\n",
    "\n",
    "genres = [\n",
    "    'Country', 'Pop', 'Hip Hop', 'Rock'\n",
    "]\n",
    "\n",
    "LYRIC_LEN = 400 # each song has to be  400 characters\n",
    "N = 10000 # number of records to pull from each genre\n",
    "RANDOM_SEED = 200 # random seed to make results repeatable\n",
    "\n",
    "train_df = pd.DataFrame()\n",
    "test_df = pd.DataFrame()\n",
    "for genre in genres: # loop over each genre\n",
    "    subset = lyrics_by_song[ # create a subset \n",
    "        X = lyrics_by_song.genre==genre) & \n",
    "        (lyrics_by_song.lyric.str.len() > 400)\n",
    "    ]\n",
    "    train_set = subset.sample(n=N, random_state=RANDOM_SEED)\n",
    "    test_set = subset.drop(train_set.index)\n",
    "#     train_df = train_df.append(train_set) # append subsets to the master sets\n",
    "#     test_df = test_df.append(test_set)\n",
    "    \n",
    "# train_df = shuffle(train_df)\n",
    "# test_df = shuffle(test_df)\n"
   ]
  },
  {
   "cell_type": "code",
   "execution_count": null,
   "metadata": {},
   "outputs": [],
   "source": []
  },
  {
   "cell_type": "raw",
   "metadata": {},
   "source": []
  },
  {
   "cell_type": "code",
   "execution_count": 19,
   "metadata": {},
   "outputs": [],
   "source": [
    "lyrics_by_song.sample?"
   ]
  },
  {
   "cell_type": "code",
   "execution_count": 18,
   "metadata": {},
   "outputs": [
    {
     "data": {
      "text/html": [
       "<div>\n",
       "<style scoped>\n",
       "    .dataframe tbody tr th:only-of-type {\n",
       "        vertical-align: middle;\n",
       "    }\n",
       "\n",
       "    .dataframe tbody tr th {\n",
       "        vertical-align: top;\n",
       "    }\n",
       "\n",
       "    .dataframe thead th {\n",
       "        text-align: right;\n",
       "    }\n",
       "</style>\n",
       "<table border=\"1\" class=\"dataframe\">\n",
       "  <thead>\n",
       "    <tr style=\"text-align: right;\">\n",
       "      <th></th>\n",
       "    </tr>\n",
       "  </thead>\n",
       "  <tbody>\n",
       "  </tbody>\n",
       "</table>\n",
       "</div>"
      ],
      "text/plain": [
       "Empty DataFrame\n",
       "Columns: []\n",
       "Index: []"
      ]
     },
     "execution_count": 18,
     "metadata": {},
     "output_type": "execute_result"
    }
   ],
   "source": [
    "train_df.head(10)"
   ]
  },
  {
   "cell_type": "code",
   "execution_count": null,
   "metadata": {},
   "outputs": [],
   "source": [
    "from sklearn.feature_extraction.text import CountVectorizer\n",
    "from sklearn.naive_bayes import MultinomialNB\n",
    "from sklearn.pipeline import Pipeline"
   ]
  },
  {
   "cell_type": "code",
   "execution_count": null,
   "metadata": {},
   "outputs": [],
   "source": [
    "# define our model\n",
    "text_clf = Pipeline(\n",
    "    [('vect', CountVectorizer()),\n",
    "     ('clf', MultinomialNB(alpha=0.1))])"
   ]
  },
  {
   "cell_type": "code",
   "execution_count": null,
   "metadata": {},
   "outputs": [],
   "source": [
    "# train our model on training data\n",
    "text_clf.fit(train_df.lyric, train_df.ranker_genre)"
   ]
  },
  {
   "cell_type": "code",
   "execution_count": null,
   "metadata": {},
   "outputs": [],
   "source": [
    "# score our model on testing data\n",
    "predicted = text_clf.predict(test_df.lyric)\n",
    "np.mean(predicted == test_df.genre)"
   ]
  },
  {
   "cell_type": "code",
   "execution_count": null,
   "metadata": {},
   "outputs": [],
   "source": []
  }
 ],
 "metadata": {
  "kernelspec": {
   "display_name": "Python [conda env:pandas] *",
   "language": "python",
   "name": "conda-env-pandas-py"
  },
  "language_info": {
   "codemirror_mode": {
    "name": "ipython",
    "version": 3
   },
   "file_extension": ".py",
   "mimetype": "text/x-python",
   "name": "python",
   "nbconvert_exporter": "python",
   "pygments_lexer": "ipython3",
   "version": "3.6.9"
  }
 },
 "nbformat": 4,
 "nbformat_minor": 2
}
